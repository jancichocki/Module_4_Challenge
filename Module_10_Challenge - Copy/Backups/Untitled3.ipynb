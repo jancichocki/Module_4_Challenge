{
 "cells": [
  {
   "cell_type": "code",
   "execution_count": null,
   "id": "9b0bc6f0-fbfe-4eb6-9c29-084a2d718aaa",
   "metadata": {},
   "outputs": [],
   "source": [
    "# Create elbow plots for original and PCA-transformed data\n",
    "elbow_plot_original = df_elbow_original.hvplot.line(\n",
    "    x='k', y='inertia', \n",
    "    label='Original Data', \n",
    "    color='blue', \n",
    "    width=600, height=400\n",
    ")\n",
    "\n",
    "elbow_plot_pca = df_elbow_pca.hvplot.line(\n",
    "    x='k', y='inertia', \n",
    "    label='PCA Data', \n",
    "    color='green', \n",
    "    width=600, height=400\n",
    ")\n",
    "\n",
    "# Composite plot to compare elbow curves\n",
    "composite_elbow_plot = elbow_plot_original * elbow_plot_pca\n",
    "composite_elbow_plot.opts(title=\"Elbow Curve Comparison: Original vs PCA\")\n",
    "\n",
    "# Display the composite plot\n",
    "composite_elbow_plot\n",
    "print(df_market_data.columns)\n",
    "\n",
    "# Visualization for the original data clustering\n",
    "cluster_plot_original = df_market_data_with_clusters_origional.hvplot.scatter(\n",
    "    x='price_change_percentage_24h', \n",
    "    y='price_change_percentage_7d', \n",
    "    by='Cluster_Origional',  # Ensure this column name matches your DataFrame\n",
    "    colormap='Category10',\n",
    "    width=400,\n",
    "    height=400,\n",
    "    title=\"Original Data Clustering\"\n",
    ")\n",
    "\n",
    "# Visualization for the PCA data clustering\n",
    "cluster_plot_pca = df_pca.hvplot.scatter(\n",
    "    x='PC1', \n",
    "    y='PC2',\n",
    "    by='Cluster_PCA',  # Ensure this column name matches your DataFrame\n",
    "    colormap='Category10',\n",
    "    width=400,\n",
    "    height=400,\n",
    "    title=\"PCA Data Clustering\"\n",
    ")\n",
    "\n",
    "# Create a composite plot\n",
    "composite_cluster_plot = cluster_plot_original + cluster_plot_pca\n",
    "\n",
    "# Display the composite plot\n",
    "composite_cluster_plot\n",
    "\n",
    "display(HTML('<p style=\"font-size: 18px;\">Using fewer features to cluster data by using K-means, through PCA, generally leads to a more streamlined and efficient clustering process, with improved visualization capabilities. However, it\\'s essential to balance dimensionality reduction with the preservation of meaningful variance to ensure that the clusters formed are both interpretable and reflective of the underlying data.</p>'))\n"
   ]
  }
 ],
 "metadata": {
  "kernelspec": {
   "display_name": "Python 3 (ipykernel)",
   "language": "python",
   "name": "python3"
  },
  "language_info": {
   "codemirror_mode": {
    "name": "ipython",
    "version": 3
   },
   "file_extension": ".py",
   "mimetype": "text/x-python",
   "name": "python",
   "nbconvert_exporter": "python",
   "pygments_lexer": "ipython3",
   "version": "3.11.5"
  }
 },
 "nbformat": 4,
 "nbformat_minor": 5
}
