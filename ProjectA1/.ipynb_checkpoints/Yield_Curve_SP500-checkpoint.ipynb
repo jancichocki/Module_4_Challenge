{
 "cells": [
  {
   "cell_type": "code",
   "execution_count": null,
   "id": "5d6070f0-3587-4244-bfe1-77c52f6544aa",
   "metadata": {},
   "outputs": [],
   "source": [
    "import pandas as pd\n",
    "import pandas_datareader as pdr\n",
    "import matplotlib.pyplot as plt\n",
    "import datetime\n",
    "import yfinance as yf\n",
    "\n",
    "# Define the tickers for 2-year and 10-year Treasury bond yields from FRED\n",
    "ticker_2y = \"DGS2\"  # FRED code for 2-year Treasury bond yield\n",
    "ticker_10y = \"DGS10\"  # FRED code for 10-year Treasury bond yield\n",
    "sp500_ticker = \"^GSPC\"  # Ticker symbol for S&P 500 Index\n",
    "start = datetime.datetime(2000, 1, 1)\n",
    "end = datetime.datetime(2024, 1, 1)\n",
    "\n",
    "# Fetch data from FRED\n",
    "data_2y = pdr.DataReader(ticker_2y, 'fred', start, end)\n",
    "data_10y = pdr.DataReader(ticker_10y, 'fred', start, end)\n",
    "\n",
    "# Fetch S&P 500 data\n",
    "sp500_data = yf.download(sp500_ticker, start=start, end=end)\n",
    "\n",
    "# Aligning both datasets on the same dates\n",
    "combined_data = pd.concat([data_2y, data_10y], axis=1)\n",
    "combined_data.columns = ['2Y', '10Y']\n",
    "combined_data.dropna(inplace=True)\n",
    "\n",
    "# Calculate the yield spread (10-year yield minus 2-year yield)\n",
    "combined_data['Spread'] = combined_data['10Y'] - combined_data['2Y']\n",
    "\n",
    "# Calculate the monthly moving average of the yield spread\n",
    "combined_data['Monthly_MA'] = combined_data['Spread'].rolling(window=21).mean()\n",
    "\n",
    "# Plotting the monthly moving average of the yield spread\n",
    "plt.figure(figsize=(10, 6))\n",
    "plt.plot(combined_data['Monthly_MA'], label='Monthly Moving Average of Yield Spread', color='blue')\n",
    "plt.title('Yield Curve Spread Over Time')\n",
    "plt.ylabel('Yield Spread (Percentage Points)')\n",
    "plt.xlabel('Date')\n",
    "plt.legend()\n",
    "plt.grid(True)\n",
    "plt.show()\n",
    "\n",
    "# Resample S&P 500 data to get monthly values\n",
    "sp500_monthly = sp500_data['Adj Close'].resample('M').mean()\n",
    "\n",
    "# Plotting the S&P 500 monthly data\n",
    "plt.figure(figsize=(10, 6))\n",
    "plt.plot(sp500_monthly, label='S&P 500 Monthly Close', color='green')\n",
    "plt.title('S&P 500 Index Over Time')\n",
    "plt.ylabel('Index Value')\n",
    "plt.xlabel('Date')\n",
    "plt.legend()\n",
    "plt.grid(True)\n",
    "plt.show()\n"
   ]
  }
 ],
 "metadata": {
  "kernelspec": {
   "display_name": "Python 3 (ipykernel)",
   "language": "python",
   "name": "python3"
  },
  "language_info": {
   "codemirror_mode": {
    "name": "ipython",
    "version": 3
   },
   "file_extension": ".py",
   "mimetype": "text/x-python",
   "name": "python",
   "nbconvert_exporter": "python",
   "pygments_lexer": "ipython3",
   "version": "3.11.5"
  }
 },
 "nbformat": 4,
 "nbformat_minor": 5
}
