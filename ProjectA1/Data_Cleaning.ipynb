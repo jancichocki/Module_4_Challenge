{
 "cells": [
  {
   "cell_type": "code",
   "execution_count": null,
   "id": "6a7d1517-5c3c-4e69-b39f-92cd4723ff97",
   "metadata": {},
   "outputs": [],
   "source": [
    "import pandas as pd\n",
    "import pandas_datareader as pdr\n",
    "import yfinance as yf\n",
    "import datetime\n",
    "\n",
    "# Define tickers\n",
    "ticker_2y = \"DGS2\"  # 2-year Treasury bond yield\n",
    "ticker_10y = \"DGS10\"  # 10-year Treasury bond yield\n",
    "sp500_ticker = \"^GSPC\"  # S&P 500 Index\n",
    "cs_ticker = \"CSUSHPINSA\"  # Case-Shiller Home Price Index\n",
    "\n",
    "# Set date range\n",
    "start = datetime.datetime(2000, 1, 1)\n",
    "end = datetime.datetime(2024, 1, 1)\n",
    "\n",
    "# Fetch data\n",
    "data_2y = pdr.DataReader(ticker_2y, 'fred', start, end)\n",
    "data_10y = pdr.DataReader(ticker_10y, 'fred', start, end)\n",
    "sp500_data = yf.download(sp500_ticker, start=start, end=end)\n",
    "cs_data = pdr.DataReader(cs_ticker, 'fred', start, end)\n",
    "\n",
    "# Data Cleaning and Transformation\n",
    "\n",
    "# Aligning datasets on the same dates and dropping NaNs\n",
    "combined_data = pd.concat([data_2y, data_10y], axis=1).dropna()\n",
    "combined_data.columns = ['2Y', '10Y']\n",
    "combined_data['Spread'] = combined_data['10Y'] - combined_data['2Y']\n",
    "\n",
    "# Resample S&P 500 and Case-Shiller data to monthly values\n",
    "sp500_monthly = sp500_data['Adj Close'].resample('M').mean()\n",
    "cs_monthly = cs_data.resample('M').mean()\n",
    "\n",
    "# Standardize date formats\n",
    "combined_data.index = pd.to_datetime(combined_data.index)\n",
    "sp500_monthly.index = pd.to_datetime(sp500_monthly.index)\n",
    "cs_monthly.index = pd.to_datetime(cs_monthly.index)\n",
    "\n",
    "# Fill missing values\n",
    "combined_data.fillna(method='ffill', inplace=True)\n",
    "sp500_monthly.fillna(method='ffill', inplace=True)\n",
    "cs_monthly.fillna(method='ffill', inplace=True)"
   ]
  }
 ],
 "metadata": {
  "kernelspec": {
   "display_name": "Python 3 (ipykernel)",
   "language": "python",
   "name": "python3"
  },
  "language_info": {
   "codemirror_mode": {
    "name": "ipython",
    "version": 3
   },
   "file_extension": ".py",
   "mimetype": "text/x-python",
   "name": "python",
   "nbconvert_exporter": "python",
   "pygments_lexer": "ipython3",
   "version": "3.11.5"
  }
 },
 "nbformat": 4,
 "nbformat_minor": 5
}
