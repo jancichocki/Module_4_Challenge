{
 "cells": [
  {
   "cell_type": "code",
   "execution_count": 35,
   "id": "0798a621-6425-4ba0-933e-00bc75b26234",
   "metadata": {
    "tags": []
   },
   "outputs": [
    {
     "name": "stdout",
     "output_type": "stream",
     "text": [
      "The .env file at C:\\Users/jan/Desktop/FinTech/API/c.env was successfully loaded.\n"
     ]
    }
   ],
   "source": [
    "# Import dotenv package for setting environment variables \n",
    "from dotenv import load_dotenv\n",
    "\n",
    "# Import os package\n",
    "import os\n",
    "import requests\n",
    "import pandas as pd\n",
    "\n",
    "\n",
    "# Set environment variables from the .env in the local environment\n",
    "env_file = (\"C:\\\\Users/jan/Desktop/FinTech/API/c.env\")\n",
    "if load_dotenv(env_file):\n",
    "    print(f\"The .env file at {env_file} was successfully loaded.\")\n",
    "else:\n",
    "    print(f\"Failed to load the .env file from {env_file}. Please check the file path.\")\n",
    "\n",
    "# Example of using an environment variable (replace 'YOUR_VARIABLE' with your actual variable name)\n",
    "# var = os.getenv('YOUR_VARIABLE')\n",
    "# print(var)"
   ]
  },
  {
   "cell_type": "code",
   "execution_count": 31,
   "id": "540aa0f3-8130-4266-a6da-10b66db3d405",
   "metadata": {
    "tags": []
   },
   "outputs": [],
   "source": [
    "request_url = \"https://data.nasdaq.com/api/v3/datasets/WIKI/MSFT.json?api_key=cHoiq2ddFNqzsoZ_4kYE\""
   ]
  },
  {
   "cell_type": "code",
   "execution_count": 32,
   "id": "a0b69988-5fc1-4fd2-86b5-02b4ccf70375",
   "metadata": {
    "tags": []
   },
   "outputs": [],
   "source": [
    "response_data = requests.get(request_url)"
   ]
  },
  {
   "cell_type": "code",
   "execution_count": 36,
   "id": "6952f212-fe69-4483-95f6-96303af738ee",
   "metadata": {
    "tags": []
   },
   "outputs": [
    {
     "data": {
      "text/html": [
       "<div>\n",
       "<style scoped>\n",
       "    .dataframe tbody tr th:only-of-type {\n",
       "        vertical-align: middle;\n",
       "    }\n",
       "\n",
       "    .dataframe tbody tr th {\n",
       "        vertical-align: top;\n",
       "    }\n",
       "\n",
       "    .dataframe thead th {\n",
       "        text-align: right;\n",
       "    }\n",
       "</style>\n",
       "<table border=\"1\" class=\"dataframe\">\n",
       "  <thead>\n",
       "    <tr style=\"text-align: right;\">\n",
       "      <th></th>\n",
       "      <th>0</th>\n",
       "    </tr>\n",
       "  </thead>\n",
       "  <tbody>\n",
       "    <tr>\n",
       "      <th>0</th>\n",
       "      <td>b'{\"dataset\":{\"id\":9775827,\"dataset_code\":\"MSF...</td>\n",
       "    </tr>\n",
       "    <tr>\n",
       "      <th>1</th>\n",
       "      <td>b'lits and Trading Volume\",\"description\":\"End ...</td>\n",
       "    </tr>\n",
       "    <tr>\n",
       "      <th>2</th>\n",
       "      <td>b'djusted open, high, low close and volume for...</td>\n",
       "    </tr>\n",
       "    <tr>\n",
       "      <th>3</th>\n",
       "      <td>b'atio is 1 on non-split dates. Adjusted price...</td>\n",
       "    </tr>\n",
       "    <tr>\n",
       "      <th>4</th>\n",
       "      <td>b'nThis data is in the public domain. You may ...</td>\n",
       "    </tr>\n",
       "    <tr>\n",
       "      <th>...</th>\n",
       "      <td>...</td>\n",
       "    </tr>\n",
       "    <tr>\n",
       "      <th>8338</th>\n",
       "      <td>b'0.064719979622,0.065297836582911,47894400.0]...</td>\n",
       "    </tr>\n",
       "    <tr>\n",
       "      <th>8339</th>\n",
       "      <td>b'48375,0.065875693543822,0.066453550504732,67...</td>\n",
       "    </tr>\n",
       "    <tr>\n",
       "      <th>8340</th>\n",
       "      <td>b'8764978348375,0.067031407465643,0.0681871213...</td>\n",
       "    </tr>\n",
       "    <tr>\n",
       "      <th>8341</th>\n",
       "      <td>b'2,0.068187121387465,0.064719979622,0.0670314...</td>\n",
       "    </tr>\n",
       "    <tr>\n",
       "      <th>8342</th>\n",
       "      <td>b'10012893,0.067609264426554,0.058941410012893...</td>\n",
       "    </tr>\n",
       "  </tbody>\n",
       "</table>\n",
       "<p>8343 rows × 1 columns</p>\n",
       "</div>"
      ],
      "text/plain": [
       "                                                      0\n",
       "0     b'{\"dataset\":{\"id\":9775827,\"dataset_code\":\"MSF...\n",
       "1     b'lits and Trading Volume\",\"description\":\"End ...\n",
       "2     b'djusted open, high, low close and volume for...\n",
       "3     b'atio is 1 on non-split dates. Adjusted price...\n",
       "4     b'nThis data is in the public domain. You may ...\n",
       "...                                                 ...\n",
       "8338  b'0.064719979622,0.065297836582911,47894400.0]...\n",
       "8339  b'48375,0.065875693543822,0.066453550504732,67...\n",
       "8340  b'8764978348375,0.067031407465643,0.0681871213...\n",
       "8341  b'2,0.068187121387465,0.064719979622,0.0670314...\n",
       "8342  b'10012893,0.067609264426554,0.058941410012893...\n",
       "\n",
       "[8343 rows x 1 columns]"
      ]
     },
     "metadata": {},
     "output_type": "display_data"
    }
   ],
   "source": [
    "    df = pd.DataFrame(response_data)\n",
    "    display(df)  # In Jupyter, use display to render the DataFrame"
   ]
  },
  {
   "cell_type": "code",
   "execution_count": null,
   "id": "0a79746b-71cc-472e-8a89-09014ff21e5f",
   "metadata": {},
   "outputs": [],
   "source": []
  }
 ],
 "metadata": {
  "kernelspec": {
   "display_name": "Python 3 (ipykernel)",
   "language": "python",
   "name": "python3"
  },
  "language_info": {
   "codemirror_mode": {
    "name": "ipython",
    "version": 3
   },
   "file_extension": ".py",
   "mimetype": "text/x-python",
   "name": "python",
   "nbconvert_exporter": "python",
   "pygments_lexer": "ipython3",
   "version": "3.11.5"
  }
 },
 "nbformat": 4,
 "nbformat_minor": 5
}
