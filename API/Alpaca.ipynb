{
 "cells": [
  {
   "cell_type": "code",
   "execution_count": 3,
   "id": "f2ba033f-e1e8-411c-afdc-ceab5a4578dc",
   "metadata": {
    "tags": []
   },
   "outputs": [],
   "source": [
    " # Initial imports\n",
    "import os\n",
    "import requests\n",
    "import pandas as pd\n",
    "from dotenv import load_dotenv\n",
    "import alpaca_trade_api as tradeapi\n",
    "\n",
    "%matplotlib inline"
   ]
  },
  {
   "cell_type": "code",
   "execution_count": 4,
   "id": "e5be1015-3f70-4d46-9d94-26d38d6a0aff",
   "metadata": {
    "tags": []
   },
   "outputs": [
    {
     "name": "stdout",
     "output_type": "stream",
     "text": [
      "The .env file at C:\\Users/jan/Desktop/FinTech/API/c.env was successfully loaded.\n"
     ]
    },
    {
     "data": {
      "text/plain": [
       "True"
      ]
     },
     "execution_count": 4,
     "metadata": {},
     "output_type": "execute_result"
    }
   ],
   "source": [
    "# Set environment variables from the .env in the local environment\n",
    "env_file = (\"C:\\\\Users/jan/Desktop/FinTech/API/c.env\")\n",
    "if load_dotenv(env_file):\n",
    "    print(f\"The .env file at {env_file} was successfully loaded.\")\n",
    "else:\n",
    "    print(f\"Failed to load the .env file from {env_file}. Please check the file path.\")\n",
    "# Load .env environment variables\n",
    "load_dotenv(env_file)"
   ]
  },
  {
   "cell_type": "code",
   "execution_count": null,
   "id": "846b0db0-05f6-455a-bbf7-ae9d41e79a1e",
   "metadata": {
    "tags": []
   },
   "outputs": [],
   "source": [
    "# Set Alpaca API key and secret\n",
    "alpaca_api_key = os.getenv(\"ALPACA_API_KEY\")\n",
    "alpaca_secret_key = os.getenv(\"ALPACA_SECRET_KEY\")\n"
   ]
  },
  {
   "cell_type": "code",
   "execution_count": null,
   "id": "576837b9-f34e-4d3f-8459-ed19cfaabfbf",
   "metadata": {
    "tags": []
   },
   "outputs": [],
   "source": []
  },
  {
   "cell_type": "code",
   "execution_count": null,
   "id": "cc1381dc-456b-44da-835b-afd61023c7cb",
   "metadata": {
    "tags": []
   },
   "outputs": [],
   "source": [
    "# Create the Alpaca API object\n",
    "alpaca = tradeapi.REST(\n",
    "    alpaca_api_key,\n",
    "    alpaca_secret_key,\n",
    "    api_version=\"v2\")"
   ]
  },
  {
   "cell_type": "code",
   "execution_count": null,
   "id": "f85106ab-385b-4645-9861-bbb86b287382",
   "metadata": {
    "tags": []
   },
   "outputs": [],
   "source": [
    "# Format current date as ISO format\n",
    "today = pd.Timestamp(\"2020-07-14\", tz=\"America/New_York\").isoformat()"
   ]
  },
  {
   "cell_type": "code",
   "execution_count": 2,
   "id": "0ac7071c-8a1d-4e16-86f4-1bee065a2586",
   "metadata": {
    "tags": []
   },
   "outputs": [],
   "source": [
    " # Set the tickers\n",
    "tickers = [\"AAPL\", \"MSFT\"]"
   ]
  },
  {
   "cell_type": "code",
   "execution_count": 3,
   "id": "432ff291-0f50-4d92-be88-5e6f9a1f9cb5",
   "metadata": {
    "tags": []
   },
   "outputs": [],
   "source": [
    " # Set timeframe to one day (\"1Day\") for the Alpaca API\n",
    "timeframe = \"1Day\""
   ]
  },
  {
   "cell_type": "code",
   "execution_count": 4,
   "id": "55fae153-6d1b-4391-9e14-3b7e39fd3bdc",
   "metadata": {
    "tags": []
   },
   "outputs": [
    {
     "ename": "NameError",
     "evalue": "name 'alpaca' is not defined",
     "output_type": "error",
     "traceback": [
      "\u001b[1;31m---------------------------------------------------------------------------\u001b[0m",
      "\u001b[1;31mNameError\u001b[0m                                 Traceback (most recent call last)",
      "Cell \u001b[1;32mIn[4], line 2\u001b[0m\n\u001b[0;32m      1\u001b[0m \u001b[38;5;66;03m# Get current closing prices for FB and TWTR\u001b[39;00m\n\u001b[1;32m----> 2\u001b[0m df_portfolio \u001b[38;5;241m=\u001b[39m alpaca\u001b[38;5;241m.\u001b[39mget_bars(\n\u001b[0;32m      3\u001b[0m     tickers,\n\u001b[0;32m      4\u001b[0m     timeframe,\n\u001b[0;32m      5\u001b[0m     start \u001b[38;5;241m=\u001b[39m today,\n\u001b[0;32m      6\u001b[0m     end \u001b[38;5;241m=\u001b[39m today\n\u001b[0;32m      7\u001b[0m )\u001b[38;5;241m.\u001b[39mdf\n\u001b[0;32m      9\u001b[0m \u001b[38;5;66;03m# Display sample data\u001b[39;00m\n\u001b[0;32m     10\u001b[0m df_portfolio\n",
      "\u001b[1;31mNameError\u001b[0m: name 'alpaca' is not defined"
     ]
    }
   ],
   "source": [
    "# Get current closing prices for FB and TWTR\n",
    "df_portfolio = alpaca.get_bars(\n",
    "    tickers,\n",
    "    timeframe,\n",
    "    start = today,\n",
    "    end = today\n",
    ").df\n",
    "\n",
    "# Display sample data\n",
    "df_portfolio"
   ]
  },
  {
   "cell_type": "code",
   "execution_count": null,
   "id": "22764e82-75f3-47b4-bce1-2ab15b480677",
   "metadata": {},
   "outputs": [],
   "source": []
  },
  {
   "cell_type": "code",
   "execution_count": null,
   "id": "7c276475-203f-407b-aa92-7d3b32886d75",
   "metadata": {},
   "outputs": [],
   "source": []
  },
  {
   "cell_type": "code",
   "execution_count": null,
   "id": "73529b44-3509-4b26-ac34-44d3cbfa7211",
   "metadata": {},
   "outputs": [],
   "source": []
  },
  {
   "cell_type": "code",
   "execution_count": null,
   "id": "b4129c22-c164-44bd-ac3d-b10335071182",
   "metadata": {},
   "outputs": [],
   "source": []
  }
 ],
 "metadata": {
  "kernelspec": {
   "display_name": "Python 3 (ipykernel)",
   "language": "python",
   "name": "python3"
  },
  "language_info": {
   "codemirror_mode": {
    "name": "ipython",
    "version": 3
   },
   "file_extension": ".py",
   "mimetype": "text/x-python",
   "name": "python",
   "nbconvert_exporter": "python",
   "pygments_lexer": "ipython3",
   "version": "3.11.5"
  }
 },
 "nbformat": 4,
 "nbformat_minor": 5
}
